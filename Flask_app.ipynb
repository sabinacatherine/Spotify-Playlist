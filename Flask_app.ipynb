{
 "cells": [
  {
   "cell_type": "code",
   "execution_count": 1,
   "metadata": {},
   "outputs": [
    {
     "name": "stdout",
     "output_type": "stream",
     "text": [
      "Overwriting playlist_app.py\n"
     ]
    }
   ],
   "source": [
    "%%writefile playlist_app.py\n",
    "\n",
    "#key imports for building a flask form\n",
    "from flask import Flask, render_template, redirect, url_for\n",
    "from flask_bootstrap import Bootstrap\n",
    "from flask_wtf import FlaskForm\n",
    "from wtforms import StringField, SubmitField\n",
    "from wtforms.validators import DataRequired\n",
    "import pandas as pd\n",
    "from functions import get_playlist\n",
    "import numpy as np\n",
    "\n",
    "#key imports for building a flask form\n",
    "from flask import Flask, render_template, redirect, url_for\n",
    "from flask_bootstrap import Bootstrap\n",
    "from flask_wtf import FlaskForm\n",
    "from wtforms import StringField, SubmitField\n",
    "from wtforms.validators import DataRequired\n",
    "from functions import get_playlist\n",
    "import pandas as pd\n",
    "\n",
    "pt_concat = pd.read_csv(\"https://github.com/sabinacatherine/Spotify-Playlist/blob/main/data/song_names.csv?raw=true\")\n",
    "\n",
    "#initial form setup,initializing Flask app\n",
    "\n",
    "app = Flask(__name__)\n",
    "\n",
    "# Flask-WTF requires an encryption key - the string can be anything\n",
    "app.config['SECRET_KEY'] = 'not_so_secret_key'\n",
    "\n",
    "# Flask-Bootstrap requires this line\n",
    "Bootstrap(app)\n",
    "\n",
    "#form control configs here\n",
    "class SongForm(FlaskForm):\n",
    "    song_input_field = StringField('What is your favourite song?', validators=[DataRequired()])\n",
    "    submit_field = SubmitField('Submit')\n",
    "\n",
    "# all Flask routes below\n",
    "\n",
    "@app.route('/', methods=['GET', 'POST'])\n",
    "def index():\n",
    "    # you must tell the variable 'form' what you named the class, above\n",
    "    # 'form' is the variable name used in this template: index.html\n",
    "    form = SongForm()\n",
    "    message = \"\"\n",
    "    if form.validate_on_submit():\n",
    "        name = form.song_input_field.data\n",
    "        if name in pt_concat['SName']:\n",
    "            # empty the form field\n",
    "            form.song_input_field.data = \"\"\n",
    "            # redirect the browser to another route and template\n",
    "            return redirect(url_for('song'))\n",
    "        else:\n",
    "            message = \"That song is not in our database.\"\n",
    "    return render_template('index.html', name=name, form=form, message=message)\n",
    "\n",
    "@app.route('/song')\n",
    "def playlist(name):\n",
    "    # run function to get playlist data\n",
    "    playlist = get_playlist(name)\n",
    "    if name == \"Unknown\":\n",
    "        # redirect the browser to the error template\n",
    "        return render_template('404.html'), 404\n",
    "    else:\n",
    "        # pass all the data for the selected song to the template\n",
    "        return render_template('playlist_display.html', playlist = playlist)\n",
    "\n",
    "# 2 routes to handle errors - they have templates too\n",
    "\n",
    "@app.errorhandler(404)\n",
    "def page_not_found(e):\n",
    "    return render_template('404.html'), 404\n",
    "\n",
    "@app.errorhandler(500)\n",
    "def internal_server_error(e):\n",
    "    return render_template('500.html'), 500\n",
    "\n",
    "# keep this as is\n",
    "if __name__ == '__main__':\n",
    "    app.run(debug=True)"
   ]
  },
  {
   "cell_type": "code",
   "execution_count": null,
   "metadata": {},
   "outputs": [],
   "source": []
  }
 ],
 "metadata": {
  "kernelspec": {
   "display_name": "Python 3.9.12 ('base')",
   "language": "python",
   "name": "python3"
  },
  "language_info": {
   "codemirror_mode": {
    "name": "ipython",
    "version": 3
   },
   "file_extension": ".py",
   "mimetype": "text/x-python",
   "name": "python",
   "nbconvert_exporter": "python",
   "pygments_lexer": "ipython3",
   "version": "3.9.12"
  },
  "orig_nbformat": 4,
  "vscode": {
   "interpreter": {
    "hash": "eadb9eb6959913ecba5204ca14323a34203fa28e6cf48371c26192ff99b28bc3"
   }
  }
 },
 "nbformat": 4,
 "nbformat_minor": 2
}
